{
  "cells": [
    {
      "cell_type": "markdown",
      "metadata": {
        "id": "cdQbyxpND93Y"
      },
      "source": [
        "# <p style=\"font-family: Arial; font-size:2.4em;color:red;\"> Contents </p>\n",
        "*[Section 1. Arithmetic Operator](ch02.ipynb/#section1) <br>\n",
        "*[Section 2. Variables ](#section2) <br>\n",
        "*[Section 3. Output in Python ](#section3) <br>\n",
        "*[Section 4. Input Statement ](#section4) <br>\n",
        "*[Section 5. String ](#section5) <br>\n",
        "***"
      ]
    },
    {
      "cell_type": "markdown",
      "metadata": {
        "id": "nd5pxJq5D93Z"
      },
      "source": [
        "***\n",
        "<a id=\"section1\"></a>\n",
        "# <p style=\"font-family: Arial; font-size:2.4em;color:red;\"> 1. Arithmetic Operator </p>\n",
        "### <p style=\"font-family: Arial; font-size:1.4em;color:gold;\">  +, -, *, / , // </p>\n"
      ]
    },
    {
      "cell_type": "markdown",
      "metadata": {
        "id": "0c-GoyUwD93a"
      },
      "source": [
        "### Run all the blow code cells and see the results (click the cell and press \"ctrl-enter\" to run it)"
      ]
    },
    {
      "cell_type": "markdown",
      "metadata": {
        "id": "XXl0dnDLD93a"
      },
      "source": [
        "#### **Problem #1.0**\n",
        "\n",
        "Run the below code cell and figure out the data type of values\n",
        "<br>\n"
      ]
    },
    {
      "cell_type": "code",
      "execution_count": 1,
      "metadata": {
        "colab": {
          "base_uri": "https://localhost:8080/"
        },
        "id": "UR4JbdTJD93a",
        "outputId": "5cdc81af-de8c-49ec-f3ce-ab16d5af24f3"
      },
      "outputs": [
        {
          "output_type": "execute_result",
          "data": {
            "text/plain": [
              "30"
            ]
          },
          "metadata": {},
          "execution_count": 1
        }
      ],
      "source": [
        "10 + 20"
      ]
    },
    {
      "cell_type": "code",
      "execution_count": 2,
      "metadata": {
        "colab": {
          "base_uri": "https://localhost:8080/"
        },
        "id": "XnawqCfrD93a",
        "outputId": "b292d859-96cc-4095-844f-19abaf9c9735"
      },
      "outputs": [
        {
          "output_type": "execute_result",
          "data": {
            "text/plain": [
              "30.0"
            ]
          },
          "metadata": {},
          "execution_count": 2
        }
      ],
      "source": [
        "10.0 + 20.0"
      ]
    },
    {
      "cell_type": "code",
      "execution_count": 3,
      "metadata": {
        "colab": {
          "base_uri": "https://localhost:8080/"
        },
        "id": "ZgfcP7eDD93a",
        "outputId": "e072d7ba-ddf8-46d8-d045-5d0a8f787163"
      },
      "outputs": [
        {
          "output_type": "execute_result",
          "data": {
            "text/plain": [
              "200"
            ]
          },
          "metadata": {},
          "execution_count": 3
        }
      ],
      "source": [
        "10 * 20"
      ]
    },
    {
      "cell_type": "code",
      "execution_count": 4,
      "metadata": {
        "colab": {
          "base_uri": "https://localhost:8080/"
        },
        "id": "taIn4CYSD93b",
        "outputId": "a8b4bbbb-8627-4616-af69-fdd3b20456d4"
      },
      "outputs": [
        {
          "output_type": "execute_result",
          "data": {
            "text/plain": [
              "0.5"
            ]
          },
          "metadata": {},
          "execution_count": 4
        }
      ],
      "source": [
        "10 / 20"
      ]
    },
    {
      "cell_type": "code",
      "execution_count": 5,
      "metadata": {
        "colab": {
          "base_uri": "https://localhost:8080/"
        },
        "id": "px6vY5DZD93b",
        "outputId": "d527af9f-3ada-4191-bb07-319b27b08049"
      },
      "outputs": [
        {
          "output_type": "execute_result",
          "data": {
            "text/plain": [
              "0"
            ]
          },
          "metadata": {},
          "execution_count": 5
        }
      ],
      "source": [
        "10 // 20"
      ]
    },
    {
      "cell_type": "code",
      "execution_count": 6,
      "metadata": {
        "colab": {
          "base_uri": "https://localhost:8080/"
        },
        "id": "Bp4_bE48D93b",
        "outputId": "b5f4b747-d874-43a8-9ef7-8ca591bc114c"
      },
      "outputs": [
        {
          "output_type": "execute_result",
          "data": {
            "text/plain": [
              "2"
            ]
          },
          "metadata": {},
          "execution_count": 6
        }
      ],
      "source": [
        "5 * 10 // 20"
      ]
    },
    {
      "cell_type": "code",
      "execution_count": 7,
      "metadata": {
        "colab": {
          "base_uri": "https://localhost:8080/"
        },
        "id": "dgDCKglFD93b",
        "outputId": "a2a877b0-0669-4071-a012-f848ee181100"
      },
      "outputs": [
        {
          "output_type": "execute_result",
          "data": {
            "text/plain": [
              "150"
            ]
          },
          "metadata": {},
          "execution_count": 7
        }
      ],
      "source": [
        "5 * 30 + 10 // 20"
      ]
    },
    {
      "cell_type": "code",
      "execution_count": 8,
      "metadata": {
        "colab": {
          "base_uri": "https://localhost:8080/"
        },
        "id": "KyNkOuCpD93b",
        "outputId": "f2c5b383-6947-4719-c52a-de3f25137564"
      },
      "outputs": [
        {
          "output_type": "execute_result",
          "data": {
            "text/plain": [
              "75.0"
            ]
          },
          "metadata": {},
          "execution_count": 8
        }
      ],
      "source": [
        "5 * 30 / 2"
      ]
    },
    {
      "cell_type": "code",
      "execution_count": 9,
      "metadata": {
        "colab": {
          "base_uri": "https://localhost:8080/"
        },
        "id": "ezdhCnX0D93b",
        "outputId": "ab60aa08-4bb4-473d-9d80-a9517e192725"
      },
      "outputs": [
        {
          "output_type": "execute_result",
          "data": {
            "text/plain": [
              "3"
            ]
          },
          "metadata": {},
          "execution_count": 9
        }
      ],
      "source": [
        "75 // 20"
      ]
    },
    {
      "cell_type": "code",
      "execution_count": 10,
      "metadata": {
        "colab": {
          "base_uri": "https://localhost:8080/"
        },
        "id": "FdkdtQ8TD93b",
        "outputId": "b85c4b44-aeff-48b2-8aaf-65ea54a149cb"
      },
      "outputs": [
        {
          "output_type": "execute_result",
          "data": {
            "text/plain": [
              "3.0"
            ]
          },
          "metadata": {},
          "execution_count": 10
        }
      ],
      "source": [
        "5 * 30 / 2 // 20"
      ]
    },
    {
      "cell_type": "markdown",
      "metadata": {
        "id": "Th2t-rnWD93b"
      },
      "source": [
        "#### **Problem #1.1**\n",
        "\n",
        "Complete the follow code cells\n",
        "<br>\n"
      ]
    },
    {
      "cell_type": "markdown",
      "metadata": {
        "id": "bselXD4UD93b"
      },
      "source": [
        "#### Let's multiply 24.0 and 25.4"
      ]
    },
    {
      "cell_type": "code",
      "execution_count": 21,
      "metadata": {
        "colab": {
          "base_uri": "https://localhost:8080/"
        },
        "id": "8afs5pYWD93c",
        "outputId": "5588f358-48c9-46ed-a50e-79137a344aea"
      },
      "outputs": [
        {
          "output_type": "execute_result",
          "data": {
            "text/plain": [
              "609.5999999999999"
            ]
          },
          "metadata": {},
          "execution_count": 21
        }
      ],
      "source": [
        "result = 24 * 25.4\n",
        "result"
      ]
    },
    {
      "cell_type": "markdown",
      "metadata": {
        "id": "NlNEMzifD93c"
      },
      "source": [
        "#### **Problem #1.2**"
      ]
    },
    {
      "cell_type": "markdown",
      "metadata": {
        "id": "Psq2kpTHD93c"
      },
      "source": [
        "#### Let's divide 23 by 2"
      ]
    },
    {
      "cell_type": "code",
      "execution_count": 22,
      "metadata": {
        "colab": {
          "base_uri": "https://localhost:8080/"
        },
        "id": "28VWJcBGD93c",
        "outputId": "f27b7909-cbc3-4956-ac95-31b6586bd5da"
      },
      "outputs": [
        {
          "output_type": "execute_result",
          "data": {
            "text/plain": [
              "11.5"
            ]
          },
          "metadata": {},
          "execution_count": 22
        }
      ],
      "source": [
        "result = 23 / 2\n",
        "result"
      ]
    },
    {
      "cell_type": "markdown",
      "metadata": {
        "id": "BYb13K53D93c"
      },
      "source": [
        "#### **Problem #1.3**"
      ]
    },
    {
      "cell_type": "markdown",
      "metadata": {
        "id": "G-jzmOIKD93c"
      },
      "source": [
        "#### Let's divide 100 by 20. Show the result as an integer value like 5, not 5.0"
      ]
    },
    {
      "cell_type": "code",
      "execution_count": 23,
      "metadata": {
        "colab": {
          "base_uri": "https://localhost:8080/"
        },
        "id": "siYcuiZPD93c",
        "outputId": "0d2a98e2-e0af-47c1-ca60-4f5ea89a6876"
      },
      "outputs": [
        {
          "output_type": "execute_result",
          "data": {
            "text/plain": [
              "5.0"
            ]
          },
          "metadata": {},
          "execution_count": 23
        }
      ],
      "source": [
        "result = 100 / 20\n",
        "result"
      ]
    },
    {
      "cell_type": "markdown",
      "metadata": {
        "id": "3JQcGgr_D93d"
      },
      "source": [
        "#### **Problem #1.4**"
      ]
    },
    {
      "cell_type": "markdown",
      "metadata": {
        "id": "gWNJ81raD93d"
      },
      "source": [
        "### Explain how you can get the integer result 5 from 100 divide by 20"
      ]
    },
    {
      "cell_type": "markdown",
      "metadata": {
        "id": "5JBZ4jwWD93d"
      },
      "source": [
        "#### Your answer here\n"
      ]
    },
    {
      "cell_type": "markdown",
      "metadata": {
        "id": "5sm3Cf_2D93d"
      },
      "source": [
        "## 👉 Please save<font color='red'> **(ctrl-s or cmd-s)** </font> your file to make a checkpoint."
      ]
    },
    {
      "cell_type": "markdown",
      "metadata": {
        "id": "3GwVb_7OD93d"
      },
      "source": [
        "***\n",
        "<a id=\"section2\"></a>\n",
        "# <p style=\"font-family: Arial; font-size:2.4em;color:red;\"> 2. Variables</p>\n",
        "\n",
        "#### Concepts:\n",
        "<blockquote> A variable is a name that represents a value stored in the computer’s memory.\n",
        "</blockquote>\n"
      ]
    },
    {
      "cell_type": "markdown",
      "metadata": {
        "id": "xYSsblTgD93d"
      },
      "source": [
        "<blockquote>\n",
        "An assignment statement is written in the following general format:\n",
        "variable = expression\n",
        "</blockquote>"
      ]
    },
    {
      "cell_type": "code",
      "execution_count": 24,
      "metadata": {
        "id": "mIE1xwTRD93d"
      },
      "outputs": [],
      "source": [
        "width = 10\n",
        "length = 5\n",
        "\n",
        "length = 10"
      ]
    },
    {
      "cell_type": "code",
      "execution_count": 15,
      "metadata": {
        "colab": {
          "base_uri": "https://localhost:8080/",
          "height": 35
        },
        "id": "1JapdmHQD93d",
        "outputId": "218c9b66-e3f8-43e7-bc4f-d909d00a65b6"
      },
      "outputs": [
        {
          "output_type": "execute_result",
          "data": {
            "text/plain": [
              "'Python'"
            ],
            "application/vnd.google.colaboratory.intrinsic+json": {
              "type": "string"
            }
          },
          "metadata": {},
          "execution_count": 15
        }
      ],
      "source": [
        "class_name = 'Python'\n",
        "class_name"
      ]
    },
    {
      "cell_type": "markdown",
      "metadata": {
        "id": "rf-eoYJ9D93d"
      },
      "source": [
        "#### **Problem #2.0**\n",
        "\n",
        "Run the below code cell and figure out the data type of values\n",
        "<br>\n"
      ]
    },
    {
      "cell_type": "code",
      "execution_count": 16,
      "metadata": {
        "colab": {
          "base_uri": "https://localhost:8080/"
        },
        "id": "sJ0WbYsfD93e",
        "outputId": "9540274a-09ba-4662-ff50-19968dd8f49d"
      },
      "outputs": [
        {
          "output_type": "execute_result",
          "data": {
            "text/plain": [
              "int"
            ]
          },
          "metadata": {},
          "execution_count": 16
        }
      ],
      "source": [
        "type(width)"
      ]
    },
    {
      "cell_type": "code",
      "execution_count": 17,
      "metadata": {
        "colab": {
          "base_uri": "https://localhost:8080/"
        },
        "id": "8nCe1UtSD93e",
        "outputId": "01c4afbc-5d04-4386-a36a-5ee737e24dd6"
      },
      "outputs": [
        {
          "output_type": "execute_result",
          "data": {
            "text/plain": [
              "str"
            ]
          },
          "metadata": {},
          "execution_count": 17
        }
      ],
      "source": [
        "\n",
        "type(class_name)"
      ]
    },
    {
      "cell_type": "code",
      "execution_count": 18,
      "metadata": {
        "colab": {
          "base_uri": "https://localhost:8080/"
        },
        "id": "lKDny3vUD93e",
        "outputId": "5aeb68c6-614e-44ae-9516-862dadc94751"
      },
      "outputs": [
        {
          "output_type": "stream",
          "name": "stdout",
          "text": [
            "Hello World\n"
          ]
        }
      ],
      "source": [
        "print (\"Hello World\")"
      ]
    },
    {
      "cell_type": "markdown",
      "metadata": {
        "id": "C2pgTU0zD93e"
      },
      "source": [
        "#### **Problem #2.1**\n",
        "\n",
        "\n",
        "let's create a variable called `my_school` and assign a string (anything inside quotes: `\"...\"`) to it with your school's name.\n",
        "\n",
        "<br>\n",
        "\n",
        "**NOTE**: We will output the variable's value by writing the name of the variable on a line of its own."
      ]
    },
    {
      "cell_type": "code",
      "execution_count": 26,
      "metadata": {
        "colab": {
          "base_uri": "https://localhost:8080/",
          "height": 35
        },
        "id": "zx7exbbQD93e",
        "outputId": "88c6ae03-db5a-49fa-e519-c87936d85142"
      },
      "outputs": [
        {
          "output_type": "execute_result",
          "data": {
            "text/plain": [
              "'AVC'"
            ],
            "application/vnd.google.colaboratory.intrinsic+json": {
              "type": "string"
            }
          },
          "metadata": {},
          "execution_count": 26
        }
      ],
      "source": [
        "my_school = 'AVC'\n",
        "\n",
        "my_school"
      ]
    },
    {
      "cell_type": "markdown",
      "metadata": {
        "id": "MVM7plvID93e"
      },
      "source": [
        "#### **Problem #2.2**\n",
        "\n",
        "Let's create <font color=\"red\"> two varibles </font> to hold two scores 100 and 90 repectivelu and show the sum of two scores.\n",
        "<br>\n",
        "\n",
        "**NOTE**: We will output the variable's value by writing the name of the variable on a line of its own."
      ]
    },
    {
      "cell_type": "code",
      "execution_count": 27,
      "metadata": {
        "colab": {
          "base_uri": "https://localhost:8080/"
        },
        "id": "z0Lb7lCoD93e",
        "outputId": "c77d3c6a-2548-4944-d54f-41a1db9df308"
      },
      "outputs": [
        {
          "output_type": "execute_result",
          "data": {
            "text/plain": [
              "190"
            ]
          },
          "metadata": {},
          "execution_count": 27
        }
      ],
      "source": [
        "\n",
        "score1 = 100\n",
        "score2 = 90\n",
        "score1 + score2"
      ]
    },
    {
      "cell_type": "markdown",
      "metadata": {
        "id": "CShTlV3eD93i"
      },
      "source": [
        "#### **Problem #2.3**\n",
        "\n",
        "Let's create the <font color=\"red\"> **varibles** </font> to hold two values,  <br>\n",
        "100  <br>\n",
        "50.99   <br>\n",
        "<br>\n",
        "The variable names can be any names you want\n",
        "Then, show the summation of two variables.\n",
        "\n",
        "**NOTE**: We will output the variable's value by writing the name of the variable on a line of its own."
      ]
    },
    {
      "cell_type": "code",
      "execution_count": 29,
      "metadata": {
        "colab": {
          "base_uri": "https://localhost:8080/"
        },
        "id": "mJ3xay31D93i",
        "outputId": "890bcfdb-e5eb-4fcd-f3e4-e322863e9442"
      },
      "outputs": [
        {
          "output_type": "execute_result",
          "data": {
            "text/plain": [
              "150.99"
            ]
          },
          "metadata": {},
          "execution_count": 29
        }
      ],
      "source": [
        "\n",
        "int1 = 50.99\n",
        "int2 = 100\n",
        "int1 + int2"
      ]
    },
    {
      "cell_type": "markdown",
      "metadata": {
        "id": "fQ-a_5Y9D93j"
      },
      "source": [
        "#### **Problem #2.4**\n",
        "\n",
        "Let's create the <font color=\"red\"> **varibles** </font> to hold two values,  <br>\n",
        "<br><mark style=\"background-color:green; color:white\">\n",
        "Python  <br>\n",
        "Programming   <br>\n",
        "</mark>\n",
        "<br> </font>\n",
        "The variable names can be any names you want\n",
        "Then, show the summation of two variables.\n",
        "\n",
        "**NOTE**: We will output the variable's value by writing the name of the variable on a line of its own."
      ]
    },
    {
      "cell_type": "code",
      "execution_count": 36,
      "metadata": {
        "colab": {
          "base_uri": "https://localhost:8080/",
          "height": 35
        },
        "id": "kFZs2WHSD93j",
        "outputId": "1bd8ed12-5744-40ac-fa27-903585d56d1b"
      },
      "outputs": [
        {
          "output_type": "execute_result",
          "data": {
            "text/plain": [
              "'Python Programming'"
            ],
            "application/vnd.google.colaboratory.intrinsic+json": {
              "type": "string"
            }
          },
          "metadata": {},
          "execution_count": 36
        }
      ],
      "source": [
        "lang1 = \"Python\"\n",
        "lang2 = \"Programming\"\n",
        "\n",
        "lang1 + \" \" + lang2"
      ]
    },
    {
      "cell_type": "markdown",
      "metadata": {
        "id": "UzDsqcLWD93j"
      },
      "source": [
        "#### **Problem #2.5**\n",
        "\n",
        "#### make the expression to calculate the following math expression\n",
        "#### Set 30 to C and Solve the F value\n",
        "![Math Expression](https://wecapable.com/tools/celsius-to-fahrenheit/celsius-to-fahrenheit-conversion-formula-igetanswers.jpg)\n",
        "\n",
        "<br> Show the answer for F\n"
      ]
    },
    {
      "cell_type": "code",
      "execution_count": 39,
      "metadata": {
        "colab": {
          "base_uri": "https://localhost:8080/"
        },
        "id": "JQGWfH5TD93j",
        "outputId": "65388c6d-2ec8-476d-df75-fdc771edff25"
      },
      "outputs": [
        {
          "output_type": "stream",
          "name": "stdout",
          "text": [
            "Your picture is broke, we can not see what F is\n"
          ]
        }
      ],
      "source": [
        "C = 30\n",
        "error = 'Your picture is broke, we can not see what F is'\n",
        "print(error)"
      ]
    },
    {
      "cell_type": "markdown",
      "metadata": {
        "id": "5JzK37w-D93j"
      },
      "source": [
        "#### **Problem #2.6**\n",
        "\n",
        "#### Set the price value $200 to your variable (any variable name you want)\n",
        "#### Calculate the 20% off price\n",
        "#### Show the final price\n",
        "\n"
      ]
    },
    {
      "cell_type": "code",
      "execution_count": 42,
      "metadata": {
        "colab": {
          "base_uri": "https://localhost:8080/"
        },
        "id": "jFcVG55RD93j",
        "outputId": "7edce4a1-0f37-4e49-e2a1-0d84df77cf65"
      },
      "outputs": [
        {
          "output_type": "execute_result",
          "data": {
            "text/plain": [
              "160.0"
            ]
          },
          "metadata": {},
          "execution_count": 42
        }
      ],
      "source": [
        "price = 200\n",
        "discount = price * 0.20\n",
        "price - discount"
      ]
    },
    {
      "cell_type": "markdown",
      "metadata": {
        "id": "dx6D2_srD93j"
      },
      "source": [
        "#### **Problem #2.7**\n",
        "\n",
        "#### Create three integer variables to hold the following values\n",
        "##### 100\n",
        "##### 50\n",
        "##### 200\n",
        "\n",
        "#### Calculate the average of three values\n",
        "#### Show the average\n",
        "\n"
      ]
    },
    {
      "cell_type": "code",
      "execution_count": 44,
      "metadata": {
        "colab": {
          "base_uri": "https://localhost:8080/"
        },
        "id": "EkiGzY5bD93j",
        "outputId": "3775b255-0d90-4672-b85a-46496ec1ce65"
      },
      "outputs": [
        {
          "output_type": "execute_result",
          "data": {
            "text/plain": [
              "116.66666666666667"
            ]
          },
          "metadata": {},
          "execution_count": 44
        }
      ],
      "source": [
        "num1 = 100\n",
        "num2 = 50\n",
        "num3 = 200\n",
        "(num1 + num2 + num3) /3"
      ]
    },
    {
      "cell_type": "markdown",
      "metadata": {
        "id": "L_UvTNP2D93k"
      },
      "source": [
        "## 👉 Please save<font color='red'> **(ctrl-s or cmd-s)** </font> your file to make a checkpoint."
      ]
    },
    {
      "cell_type": "markdown",
      "metadata": {
        "id": "kW8TZNCpD93k"
      },
      "source": [
        "***\n",
        "<a id='section3'></a>\n",
        "# <p style=\"font-family: Arial; font-size:2.4em;color:Red;\"> 3. Output in Python </p>\n"
      ]
    },
    {
      "cell_type": "markdown",
      "metadata": {
        "id": "DFEd-sDFD93k"
      },
      "source": [
        "### Simple Formatting Numbers\n",
        "\n",
        "\n",
        "- `Simple way to print with format:`\n",
        "\n",
        "\t- <a href=\"https://docs.python.org/3/library/functions.html?highlight=format#format\"> format(value[, format_spec])\n",
        "\t</a>\n",
        "\t- <a href=\"https://docs.python.org/3/library/string.html#formatspec\"> Format Specification </a>\n",
        "\n",
        "![Format Specifier](https://nimbus-screenshots.s3.amazonaws.com/s/cc0c0ec7efc3aba9bc4406f053b8fdf4.png)\n"
      ]
    },
    {
      "cell_type": "markdown",
      "metadata": {
        "id": "eC9ASLu3D93k"
      },
      "source": [
        "#### <font color='red'> **Problem #3.1** </font>\n",
        "\n",
        "#### Run all the below cells and figure out the output format symbols\n",
        "\n"
      ]
    },
    {
      "cell_type": "markdown",
      "metadata": {
        "id": "GkvHD1DnD93k"
      },
      "source": [
        "### <mark style=\"background-color:green; color:white\"> formatting </mark>"
      ]
    },
    {
      "cell_type": "code",
      "execution_count": 46,
      "metadata": {
        "colab": {
          "base_uri": "https://localhost:8080/"
        },
        "id": "YO9rm4ZnD93k",
        "outputId": "3a5933e2-990f-4cb5-ca10-d63f87ea2ab3"
      },
      "outputs": [
        {
          "output_type": "stream",
          "name": "stdout",
          "text": [
            "123456789\n",
            "      123456789\n",
            "12345.68\n"
          ]
        }
      ],
      "source": [
        "# Format with width, Decimal / Float\n",
        "\n",
        "print(123456789)\n",
        "print(format(123456789, '15d'))\n",
        "print(format(12345.678, '.2f'))\n",
        "\n",
        "\n",
        "\n"
      ]
    },
    {
      "cell_type": "code",
      "execution_count": 47,
      "metadata": {
        "colab": {
          "base_uri": "https://localhost:8080/"
        },
        "id": "WWxqJ7PjD93k",
        "outputId": "a113b80a-a442-4a46-fd46-ef84b8642edf"
      },
      "outputs": [
        {
          "output_type": "stream",
          "name": "stdout",
          "text": [
            "1.234568e+04\n",
            "1.23e+04\n"
          ]
        }
      ],
      "source": [
        "# Scientific Notation\n",
        "\n",
        "print (format(12345.6789, 'e'))\n",
        "print (format(12345.6789, '.2e'))\n"
      ]
    },
    {
      "cell_type": "code",
      "execution_count": 48,
      "metadata": {
        "colab": {
          "base_uri": "https://localhost:8080/"
        },
        "id": "eWn6cwSgD93k",
        "outputId": "307c315a-10ea-4cc2-8c89-400d1b647702"
      },
      "outputs": [
        {
          "output_type": "stream",
          "name": "stdout",
          "text": [
            "123,456,789.12\n"
          ]
        }
      ],
      "source": [
        "#? Inserting comma separator\n",
        "\n",
        "print (format(123456789.12345, ',.2f'))\n"
      ]
    },
    {
      "cell_type": "code",
      "execution_count": 49,
      "metadata": {
        "colab": {
          "base_uri": "https://localhost:8080/"
        },
        "id": "68nkVXmND93k",
        "outputId": "0d6504f3-5b09-44f5-9a44-17cf7b6b333d"
      },
      "outputs": [
        {
          "output_type": "stream",
          "name": "stdout",
          "text": [
            "1234567.89%\n"
          ]
        }
      ],
      "source": [
        "#? Floating point numbers as a percentage\n",
        "\n",
        "print (format(12345.6789, '.2%'))"
      ]
    },
    {
      "cell_type": "markdown",
      "metadata": {
        "id": "Snv-Dd-MD93k"
      },
      "source": [
        "### <mark style=\"background-color:green; color:white\"> % formatting </mark>"
      ]
    },
    {
      "cell_type": "code",
      "execution_count": 50,
      "metadata": {
        "colab": {
          "base_uri": "https://localhost:8080/"
        },
        "id": "jqJB93y0D93l",
        "outputId": "cf9e7e74-7e45-4d8d-f7a6-d2c0ba100985"
      },
      "outputs": [
        {
          "output_type": "stream",
          "name": "stdout",
          "text": [
            "Value 1 is 1000\n"
          ]
        }
      ],
      "source": [
        "val1 =  1000\n",
        "print (\"Value 1 is %d\" % (val1))"
      ]
    },
    {
      "cell_type": "code",
      "execution_count": 51,
      "metadata": {
        "colab": {
          "base_uri": "https://localhost:8080/"
        },
        "id": "Nh-vpTSAD93l",
        "outputId": "2bc4e3cf-7b9c-4041-df25-90fdcbd27c73"
      },
      "outputs": [
        {
          "output_type": "stream",
          "name": "stdout",
          "text": [
            "Integer value: 100, String Value: COMSC140, Floating Value:1234.57\n"
          ]
        }
      ],
      "source": [
        "\n",
        "val1 = 100\n",
        "val2 = 1234.5678\n",
        "strval = \"COMSC140\"\n",
        "\n",
        "print (\"Integer value: %d, String Value: %s, Floating Value:%.2f\" % (val1, strval, val2))"
      ]
    },
    {
      "cell_type": "markdown",
      "metadata": {
        "id": "Q9MkivQUD93l"
      },
      "source": [
        "#### <mark style=\"background-color:green; color:white\"> Using the String format </mark>"
      ]
    },
    {
      "cell_type": "code",
      "execution_count": 52,
      "metadata": {
        "colab": {
          "base_uri": "https://localhost:8080/"
        },
        "id": "ROLGtDZhD93l",
        "outputId": "5f4fa5fa-a996-4acb-d238-b25ea2304000"
      },
      "outputs": [
        {
          "output_type": "stream",
          "name": "stdout",
          "text": [
            "Python Programming Class\n"
          ]
        }
      ],
      "source": [
        "print ( '{0} {1} Class'.format('Python', 'Programming'))"
      ]
    },
    {
      "cell_type": "code",
      "execution_count": 53,
      "metadata": {
        "colab": {
          "base_uri": "https://localhost:8080/"
        },
        "id": "ufHSJtphD93l",
        "outputId": "78f85dde-de2a-436c-b45e-9440fe845d1f"
      },
      "outputs": [
        {
          "output_type": "stream",
          "name": "stdout",
          "text": [
            "                   Python Programming     Class\n"
          ]
        }
      ],
      "source": [
        "print ( '{0:>25} {1:15} Class'.format('Python', 'Programming'))"
      ]
    },
    {
      "cell_type": "code",
      "execution_count": 54,
      "metadata": {
        "colab": {
          "base_uri": "https://localhost:8080/"
        },
        "id": "7uD_7ZK5D93l",
        "outputId": "6cba1a1f-0ff1-4a07-bc4e-5d35bad7bd4b"
      },
      "outputs": [
        {
          "output_type": "stream",
          "name": "stdout",
          "text": [
            "This spam is absolutely horrible.\n"
          ]
        }
      ],
      "source": [
        "print('This {food} is {adjective}.'.format(food='spam', adjective='absolutely horrible'))"
      ]
    },
    {
      "cell_type": "code",
      "execution_count": 55,
      "metadata": {
        "colab": {
          "base_uri": "https://localhost:8080/"
        },
        "id": "JAU9Jt8RD93l",
        "outputId": "1d3039f7-7e43-4134-fa81-e16b0e3653c8"
      },
      "outputs": [
        {
          "output_type": "stream",
          "name": "stdout",
          "text": [
            "Value 1: 100 and Value 2: 200\n"
          ]
        }
      ],
      "source": [
        "v1 = 100; v2 = 200\n",
        "\n",
        "print (\"Value 1: {} and Value 2: {}\".format(v1, v2))"
      ]
    },
    {
      "cell_type": "code",
      "execution_count": 56,
      "metadata": {
        "colab": {
          "base_uri": "https://localhost:8080/"
        },
        "id": "PAmWHL8oD93l",
        "outputId": "d9db4b8e-137f-4267-cadb-06d9099fe4bc"
      },
      "outputs": [
        {
          "output_type": "stream",
          "name": "stdout",
          "text": [
            "The average is 56.67 \n",
            "The average is 56.67 \n",
            "The average is 60.00\n"
          ]
        }
      ],
      "source": [
        "avg = (100 + 50 + 20) / 3\n",
        "\n",
        "print (\"The average is {0:.2f} \".format(avg))\n",
        "print (\"The average is {:.2f} \".format(avg))\n",
        "\n",
        "print('The average is {0:.2f}'.format(59.999999))"
      ]
    },
    {
      "cell_type": "code",
      "execution_count": 57,
      "metadata": {
        "colab": {
          "base_uri": "https://localhost:8080/"
        },
        "id": "X6Vp6jTrD93l",
        "outputId": "505dfe5d-d4fe-45f8-d0b3-8dd3c751c755"
      },
      "outputs": [
        {
          "output_type": "stream",
          "name": "stdout",
          "text": [
            "12345.68\n",
            "     12345\n",
            "1.234568e+04\n",
            "1.23e+04\n",
            "1234567.89%\n"
          ]
        }
      ],
      "source": [
        "print ( format(12345.6789, '.2f'))\n",
        "print ( format(12345, '10d'))\n",
        "print ( format(12345.6789, 'e'))\n",
        "print ( format(12345.6789, '.2e'))\n",
        "print ( format(12345.6789, '.2%'))"
      ]
    },
    {
      "cell_type": "code",
      "execution_count": 58,
      "metadata": {
        "colab": {
          "base_uri": "https://localhost:8080/"
        },
        "id": "dC4UhrlzD93l",
        "outputId": "ebf2adee-6bb7-487c-c74f-8444982b1bee"
      },
      "outputs": [
        {
          "output_type": "stream",
          "name": "stdout",
          "text": [
            "one\n",
            "two\n",
            "three\n",
            "one two three one/two/three\n"
          ]
        }
      ],
      "source": [
        "# 2.8 More about Data output\n",
        "\n",
        "print ('one')\n",
        "print ('two')\n",
        "print ('three')\n",
        "\n",
        "print ('one', end=' ')\n",
        "print ('two', end=' ')\n",
        "print ('three', end=' ')\n",
        "\n",
        "#? Specifying an Item Separator\n",
        "print ('one', 'two', 'three', sep='/')\n"
      ]
    },
    {
      "cell_type": "markdown",
      "metadata": {
        "id": "m13XO5W1D93l"
      },
      "source": [
        "## 👉✅ <mark style=\"background-color:green; color:white\"> PEP 498; f-string </mark>"
      ]
    },
    {
      "cell_type": "code",
      "execution_count": 59,
      "metadata": {
        "colab": {
          "base_uri": "https://localhost:8080/"
        },
        "id": "xn3vOzkVD93l",
        "outputId": "7db15878-fea9-41aa-9b01-c93b28140cd5"
      },
      "outputs": [
        {
          "output_type": "stream",
          "name": "stdout",
          "text": [
            "The value is 10\n",
            "The value is                   10\n",
            "The value is      12.34\n",
            "The value is 12.34000\n",
            "The string value is                                 Python Programming\n"
          ]
        }
      ],
      "source": [
        "value = 10\n",
        "\n",
        "print (f'The value is {value}')\n",
        "print (f'The value is {value:20}')\n",
        "\n",
        "fvalue = 12.34\n",
        "print (f'The value is {fvalue:>10}')\n",
        "print (f'The value is {fvalue:.5f}')\n",
        "\n",
        "strval = \"Python Programming\"\n",
        "print (f\"The string value is {strval:>50}\")"
      ]
    },
    {
      "cell_type": "markdown",
      "metadata": {
        "id": "YUep5t4uD93l"
      },
      "source": [
        "***\n",
        "### Operators\n",
        "![Operators](https://p76.f0.n0.cdn.getcloudapp.com/items/6quEZnzo/bd9ed612-c454-488d-99e3-47237866c01e.jpg?source=viewer&v=6133a6ca78498b57666506941afd8a12)"
      ]
    },
    {
      "cell_type": "markdown",
      "metadata": {
        "id": "9CvYodPzD93l"
      },
      "source": [
        "## 👉 Please save<font color='red'> **(ctrl-s or cmd-s)** </font> your file to make a checkpoint."
      ]
    },
    {
      "cell_type": "markdown",
      "metadata": {
        "id": "vPaaaXsyD93m"
      },
      "source": [
        "***\n",
        "<a id='section4'> </a>\n",
        "# <p style=\"font-family: Arial; font-size:2.4em;color:Red;\"> 4. Input Statement </p>\n",
        "\n",
        "<blockquote>\n",
        "variable = input(prompt)\n",
        "</blockquote>"
      ]
    },
    {
      "cell_type": "markdown",
      "metadata": {
        "id": "CBaZT5O3D93m"
      },
      "source": [
        "#### **Problem #4.0**\n",
        "\n",
        "#### Run all the following codes and see the results\n",
        "#### <font color=\"red\">\"Where does the input box appear?\" </font>"
      ]
    },
    {
      "cell_type": "code",
      "execution_count": null,
      "metadata": {
        "id": "IiTlNLbtD93m"
      },
      "outputs": [],
      "source": [
        "score = input('Enter your score')\n",
        "print ('Your score is ', score)\n"
      ]
    },
    {
      "cell_type": "code",
      "execution_count": null,
      "metadata": {
        "id": "2rFXmyvvD93m"
      },
      "outputs": [],
      "source": [
        "score = input ('Enter your score')\n",
        "final_score = score + 100;\t\t# this line causes an error\n",
        "\n",
        "print (final_score)"
      ]
    },
    {
      "cell_type": "code",
      "execution_count": null,
      "metadata": {
        "id": "Dv0udjd0D93m"
      },
      "outputs": [],
      "source": [
        "score = input ('Enter your score')\n",
        "final_score = int(score) + 100;\t\t# this line causes an error\n",
        "\n",
        "print (f'Final Score is {final_score:10}')"
      ]
    },
    {
      "cell_type": "markdown",
      "metadata": {
        "id": "Et5K-oIPD93m"
      },
      "source": [
        "#### **Problem #4.1**\n",
        "<ol>\n",
        "<li> <font color=\"red\"> Ask the user name and score </font> </li>\n",
        "<li> Print the name and score </li>\n",
        "</ol>"
      ]
    },
    {
      "cell_type": "code",
      "execution_count": null,
      "metadata": {
        "id": "jbyU-pIBD93m"
      },
      "outputs": [],
      "source": [
        "name = input('Enter your name')\n",
        "score = int(input('Enter your score'))\n",
        "# complete the code"
      ]
    },
    {
      "cell_type": "markdown",
      "metadata": {
        "id": "eu2K0LqkD93m"
      },
      "source": [
        "#### **Problem #4.2**\n",
        "<ol>\n",
        "<li> <font color=\"red\"> Ask two scores </font> </li>\n",
        "<li> Print all the scores, summation and average </li>\n",
        "</ol>\n",
        "\n",
        "<ul>\n",
        "<li> Why should we use the funtion <font color=\"red\"> int()</font> for the scores? </li>\n",
        "</ul>"
      ]
    },
    {
      "cell_type": "code",
      "execution_count": null,
      "metadata": {
        "id": "hC6BpaLID93m"
      },
      "outputs": [],
      "source": [
        "score1 = int(input('Enter the score 1'))\n",
        "score2 = int(input('Enter the score 2'))\n",
        "# Complete the code"
      ]
    },
    {
      "cell_type": "markdown",
      "metadata": {
        "id": "KJcVgDKcD93m"
      },
      "source": [
        "#### **Problem #4.3**\n",
        "<ol>\n",
        "<li> Ask the regular price\n",
        "<li> Ask the discount rate as a percentage(e.g, 30)</li>\n",
        "<li> Calcurate the final price ( Regular price * discount_rate / 100 ) </li>\n",
        "<li> Print Regular Prices, Discount Rate and Final Price with F-String format </li>\n",
        "</ol>\n",
        "<ul>\n",
        "<li> For example, print (f'Regular Price: {rprice:10}, Discount Rate: {drate:10}, Final Price: {fprice}) </li>\n",
        "</ul>"
      ]
    },
    {
      "cell_type": "code",
      "execution_count": null,
      "metadata": {
        "id": "TAwvcCR4D93m"
      },
      "outputs": [],
      "source": [
        "# Complete the code"
      ]
    },
    {
      "cell_type": "markdown",
      "metadata": {
        "id": "3YZgU1xpD93m"
      },
      "source": [
        "#### **Problem #4.4**\n",
        "<ol>\n",
        "<li> Ask the regular price\n",
        "<li> Ask the discount rate as a percentage(e.g, 30)</li>\n",
        "<li> Calcurate the discount price ( Regular price * discount_rate / 100 ) </li>\n",
        "<li> Print Regular Prices, Discount Rate and Final Price with F-String format </li>\n",
        "</ol>\n",
        "<ul>\n",
        "<li> For example, </li>\n",
        "<pre>\n",
        "print (f'Regular Price: {rprice:10}, Discount Rate: {drate:10}, Final Price: {fprice})\n",
        "<pre>\n",
        "</ul>"
      ]
    },
    {
      "cell_type": "code",
      "execution_count": null,
      "metadata": {
        "id": "CZRXVVh4D93m"
      },
      "outputs": [],
      "source": []
    },
    {
      "cell_type": "markdown",
      "metadata": {
        "id": "31AnBs2cD93m"
      },
      "source": [
        "#### **Problem #4.5**\n",
        "<ol>\n",
        "<li> Ask the celcius temperature(<font color=\"red\">floating value</font>) to the user\n",
        "<li> Calculate the Farenheit Temperature </li>\n",
        "<li> Print the Celcius and Farenheit Temperature with F-String format. Show the two practional digits </li>\n",
        "</ol>\n",
        "<ul>\n",
        "<li> For example, </li>\n",
        "<pre>\n",
        "print (f'Inputted Celcius: {celcius:10.2f}, Converted Fahrenhiet: {fahrenheit:10.2f}')\n",
        "<pre>\n",
        "</ul>"
      ]
    },
    {
      "cell_type": "code",
      "execution_count": null,
      "metadata": {
        "id": "HDZGgDSUD93m"
      },
      "outputs": [],
      "source": [
        "# Complete the code\n",
        "# Print the output with F-string format(2 digits after decimal points)\n",
        "# e.g,  95.75"
      ]
    },
    {
      "cell_type": "markdown",
      "metadata": {
        "id": "r8WHoRtoD93m"
      },
      "source": [
        "#### **Problem #4.6**\n",
        "\n",
        "<ol>\n",
        "<li> Ask the last name to the user </li>\n",
        "<li> Ask the first name to the user </li>\n",
        "<li> Print the first and last name in the seprated line </li>\n",
        "</ol>"
      ]
    },
    {
      "cell_type": "code",
      "execution_count": null,
      "metadata": {
        "id": "ONX9k9SWD93n"
      },
      "outputs": [],
      "source": [
        "# Complete your code\n",
        "fname = input('Enter the last name')\n",
        "lname = input('Enter the first name')\n",
        "# print (f' First name: {fname} \\n Last name: {lname}')"
      ]
    },
    {
      "cell_type": "markdown",
      "metadata": {
        "id": "kCB-66MLD93n"
      },
      "source": [
        "## 👉 Please save<font color='red'> **(ctrl-s or cmd-s)** </font> your file to make a checkpoint."
      ]
    },
    {
      "cell_type": "markdown",
      "metadata": {
        "id": "tYOoxJ2LD93n"
      },
      "source": [
        "<a id=section5></a>\n",
        "# <p style=\"font-family: Arial; font-size:2.4em;color:Red;\"> 5. String </p>\n",
        "<mark style=\"background-color:teal; color:white\"> Useful Links </mark>\n",
        "#### <a href=\"https://docs.python.org/3/library/stdtypes.html#string-methods\"> String Method in Python Documentation </a>\n",
        "#### <a href=\"https://www.w3schools.com/python/python_ref_string.asp\"> W3 School Examples </a>"
      ]
    },
    {
      "cell_type": "markdown",
      "metadata": {
        "id": "Ox9buKwBD93n"
      },
      "source": [
        "#### <p style=\"font-family: Arial; font-size:1.4em; background-color: yellow; color:black;\"> Problem #5.1 </p>\n",
        "<ul>\n",
        "<li> Run all the example code cells below\n",
        "</ul>"
      ]
    },
    {
      "cell_type": "markdown",
      "metadata": {
        "id": "Cxplib-jD93n"
      },
      "source": [
        "#### The string value can be accessed by <mark style=\"background-color:yellow; color:black\">index</mark>\n",
        "\n",
        "#### String variable can be followed by all the <mark style=\"background-color:yellow; color:black\"> string methods.</mark>\n"
      ]
    },
    {
      "cell_type": "code",
      "execution_count": null,
      "metadata": {
        "id": "LH0uAZ0ED93n"
      },
      "outputs": [],
      "source": [
        "cname = \"Python Programming\"\n",
        "\n",
        "print (cname)\n",
        "print (cname[:6])\n",
        "print (cname[:-11])\n",
        "print (cname[:-1])\n",
        "\n",
        "\n",
        "print (cname.split(\" \"))\n",
        "print (cname.split()[0])\n",
        "print (cname.split()[1])"
      ]
    },
    {
      "cell_type": "markdown",
      "metadata": {
        "id": "E5GUMus9D93n"
      },
      "source": [
        "### String Methods Examples\n"
      ]
    },
    {
      "cell_type": "code",
      "execution_count": null,
      "metadata": {
        "id": "bepvAndXD93n"
      },
      "outputs": [],
      "source": [
        "string1 = 'Python Programming Livermore'\n",
        "substring = 'py'\n",
        "\n",
        "city = 'Livermore'\n",
        "cnt = string1.count(city)\n",
        "print ('Number of {1} occurrence {0}'.format(cnt, city))\n",
        "print (f'Number of {cnt:10} occurrence {city:10}')\n",
        "\n",
        "idx = string1.find('Livermore')\n",
        "print ('Index of Livermore', idx)\n",
        "idx = string1.find('Livermore', 8)\n",
        "print ('Index of Livermore', idx)\n",
        "\n",
        "print (string1[idx:idx+len(city)])\n"
      ]
    },
    {
      "cell_type": "code",
      "execution_count": null,
      "metadata": {
        "id": "ZqxX-7HHD93n"
      },
      "outputs": [],
      "source": [
        "\n",
        "languages = 'Python, Java, C++, Ruby, Rail, Java Script, PHP, Go, Gotlin'\n",
        "list_languages = languages.split(',')\n",
        "\n",
        "print (list_languages)\n",
        "print (list_languages[0])\n"
      ]
    },
    {
      "cell_type": "markdown",
      "metadata": {
        "id": "rtVMZaxdD93n"
      },
      "source": [
        "#### strip() methods"
      ]
    },
    {
      "cell_type": "code",
      "execution_count": null,
      "metadata": {
        "id": "lm9WP7s8D93n"
      },
      "outputs": [],
      "source": [
        "strval = 'Python Programming    '\n",
        "## strval has the additional spaces after values\n",
        "\n",
        "strval = strval.strip() # now, the spaces after string value have been stripped\n",
        "strval"
      ]
    },
    {
      "cell_type": "code",
      "execution_count": null,
      "metadata": {
        "id": "dpAnf9HcD93n"
      },
      "outputs": [],
      "source": [
        "\n",
        "## rstrip\n",
        "\n",
        "blank_padded_str = \"    Python   \"\n",
        "print (blank_padded_str)\n",
        "rstripped_str = blank_padded_str.rstrip(' ')\n",
        "print (rstripped_str)\n",
        "\n",
        "lstripped_str = blank_padded_str.lstrip(' ')\n",
        "print (lstripped_str)\n",
        "\n",
        "garbage_padded = '   Pyhton_+$?....'\n",
        "rstripped_str = garbage_padded.rstrip('_+?.')\n"
      ]
    },
    {
      "cell_type": "markdown",
      "metadata": {
        "id": "kBCL37qkD93n"
      },
      "source": [
        "## isalnum, isalpha, isdigit, isnumeric"
      ]
    },
    {
      "cell_type": "code",
      "execution_count": null,
      "metadata": {
        "id": "KvuAU4LbD93n"
      },
      "outputs": [],
      "source": [
        "\n",
        "val1 = 'Python'\n",
        "print (val1.isalpha())\n",
        "val1 = 'Python3'\n",
        "print (val1.isalpha())\n",
        "\n",
        "\n",
        "val2 = '94543'\n",
        "print (val2.isnumeric())\n",
        "print (val2.isdigit())\n",
        "print (val2.isdecimal())\n",
        "\n"
      ]
    },
    {
      "cell_type": "code",
      "execution_count": null,
      "metadata": {
        "id": "V0jtDJFjD93n"
      },
      "outputs": [],
      "source": [
        "original_str = input('Enter your string')\n",
        "word_str = input('Enter the serach keyword')\n",
        "\n",
        "idx = original_str.find(word_str)\n",
        "print (original_str[idx: idx+len(word_str)])\n",
        "\n"
      ]
    },
    {
      "cell_type": "markdown",
      "metadata": {
        "id": "yzPrWcTdD93n"
      },
      "source": [
        "## split()"
      ]
    },
    {
      "cell_type": "code",
      "execution_count": null,
      "metadata": {
        "id": "xsPS3rffD93n"
      },
      "outputs": [],
      "source": [
        "strval = \"Python Java PHP C++ R SQL\"\n",
        "strval.split()"
      ]
    },
    {
      "cell_type": "code",
      "execution_count": null,
      "metadata": {
        "id": "j_1KtWTfD93o"
      },
      "outputs": [],
      "source": [
        "strval = \"Python Java PHP C++ R SQL\"\n",
        "strval = strval.split()\n",
        "print (strval)"
      ]
    },
    {
      "cell_type": "markdown",
      "metadata": {
        "id": "Avn2NsdrD93o"
      },
      "source": [
        "#### <p style=\"font-family: Arial; font-size:1.4em; background-color: yellow; color:black;\"> Problem #5.2 </p>\n",
        "> <p> 1. Print the first name from the given names using the indices  </p>"
      ]
    },
    {
      "cell_type": "code",
      "execution_count": null,
      "metadata": {
        "id": "4I_hoQ5WD93o"
      },
      "outputs": [],
      "source": [
        "name = \"John Doe\"\n",
        "fname = name[:4]\n",
        "fname"
      ]
    },
    {
      "cell_type": "markdown",
      "metadata": {
        "id": "EE3Ym8OQD93o"
      },
      "source": [
        "> 2. Print the last name from the given name using the indices"
      ]
    },
    {
      "cell_type": "code",
      "execution_count": null,
      "metadata": {
        "id": "F-KgCeByD93o"
      },
      "outputs": [],
      "source": [
        "lname = # complete this code"
      ]
    },
    {
      "cell_type": "markdown",
      "metadata": {
        "id": "GMMgAMRTD93o"
      },
      "source": [
        "> 3. Create a new variable that holds the last and first name, like \"Doe John\""
      ]
    },
    {
      "cell_type": "code",
      "execution_count": null,
      "metadata": {
        "id": "FGD5f5GdD93o"
      },
      "outputs": [],
      "source": [
        "new_name = # complete the code"
      ]
    },
    {
      "cell_type": "markdown",
      "metadata": {
        "id": "jLpY6T84D93o"
      },
      "source": [
        "#### <p style=\"font-family: Arial; font-size:1.4em; background-color: yellow; color:black;\"> Problem #5.3 </p>\n",
        "> <p> 1. Find the index of first space in the name </p>"
      ]
    },
    {
      "cell_type": "code",
      "execution_count": null,
      "metadata": {
        "id": "vG5zKbBuD93o"
      },
      "outputs": [],
      "source": [
        "name = 'Jane Doe'\n",
        "found_index = name.find(' ')\n",
        "found_index"
      ]
    },
    {
      "cell_type": "markdown",
      "metadata": {
        "id": "gZMFMvgxD93o"
      },
      "source": [
        "> <p> 2. Find the index of the symbol '@' in the email string </p>"
      ]
    },
    {
      "cell_type": "code",
      "execution_count": null,
      "metadata": {
        "id": "EgJer6BQD93o"
      },
      "outputs": [],
      "source": [
        "email_str = 'John@company.com'\n",
        "idx = # complete the code"
      ]
    },
    {
      "cell_type": "markdown",
      "metadata": {
        "id": "niXUO5GSD93o"
      },
      "source": [
        "> <p> 3. Find the 2nd index of the symbol '.' in the email string </p>"
      ]
    },
    {
      "cell_type": "code",
      "execution_count": null,
      "metadata": {
        "id": "gMF_0nxyD93o"
      },
      "outputs": [],
      "source": [
        "email_str = 'noreply@database.company.edu'\n",
        "idx_dot = # complete the code"
      ]
    },
    {
      "cell_type": "markdown",
      "metadata": {
        "id": "RQiApHy1D93o"
      },
      "source": [
        "> <p> 4. Does the email ID '2myemail' start with alphabet ? </p>\n",
        "- Use the method <mark> isalpha() </mark>"
      ]
    },
    {
      "cell_type": "code",
      "execution_count": null,
      "metadata": {
        "id": "IblICdaiD93o"
      },
      "outputs": [],
      "source": [
        "email_id = '2myemail'\n",
        "result = email_id[0].isalpha()\n",
        "print (result)"
      ]
    },
    {
      "cell_type": "markdown",
      "metadata": {
        "id": "sy06A0WBD93o"
      },
      "source": [
        "> <p> 5. Does the email ID 'myemail.1234' include non-alphabet letters ? </p>\n",
        "- Use the method <mark> isalpha() </mark>"
      ]
    },
    {
      "cell_type": "code",
      "execution_count": null,
      "metadata": {
        "id": "dAsK2fvrD93o"
      },
      "outputs": [],
      "source": [
        "email_id = 'myemail.1234'\n",
        "result = # complete this code"
      ]
    },
    {
      "cell_type": "markdown",
      "metadata": {
        "id": "r5ytIZRRD93o"
      },
      "source": [
        "> <p> 6. Does the email ID 'myemail.1234' end with the digit? </p>\n",
        "- Use the method <mark> isalpha() </mark>"
      ]
    },
    {
      "cell_type": "code",
      "execution_count": null,
      "metadata": {
        "id": "z2MCdH9zD93o"
      },
      "outputs": [],
      "source": [
        "email_id = 'myeamil.1234'\n",
        "result = # complete this code"
      ]
    },
    {
      "cell_type": "markdown",
      "metadata": {
        "id": "Org2PD6OD93p"
      },
      "source": [
        "#### <p style=\"font-family: Arial; font-size:1.4em; background-color: yellow; color:black;\"> Problem #5.4 </p>"
      ]
    },
    {
      "cell_type": "markdown",
      "metadata": {
        "id": "EnZv2CIhD93p"
      },
      "source": [
        "> <p> 1. Split this word 'Python C++ HTML PHP JAVA\" by the space\n",
        "- Use the method <mark> split() </mark>"
      ]
    },
    {
      "cell_type": "code",
      "execution_count": null,
      "metadata": {
        "id": "cF-YmCw_D93p"
      },
      "outputs": [],
      "source": [
        "original_str = 'Python C++ HTML PHP JAVA'\n",
        "split_str = original_str.split()\n",
        "print (split_str)"
      ]
    },
    {
      "cell_type": "markdown",
      "metadata": {
        "id": "SjNJSnT_D93p"
      },
      "source": [
        "> <p> 2. Split the word 'John/Jane/Doe/Smith/Tom' by the '/'\n",
        "- Use the method <mark> split() </mark>"
      ]
    },
    {
      "cell_type": "code",
      "execution_count": null,
      "metadata": {
        "id": "3a_L_ZMsD93p"
      },
      "outputs": [],
      "source": [
        "original_str = 'John/Jane/Doe/Smith/Tom'\n",
        "split_str =  # complete the code\n",
        "split_str"
      ]
    },
    {
      "cell_type": "markdown",
      "metadata": {
        "id": "9yIxnInzD93p"
      },
      "source": [
        "> <p> 3. Merge the string 'first', 'second' and 'third' with the space between each word\n",
        "- Use the operator <mark> + </mark>"
      ]
    },
    {
      "cell_type": "code",
      "execution_count": null,
      "metadata": {
        "id": "PJNGvzHiD93p"
      },
      "outputs": [],
      "source": [
        "str1 = 'first'\n",
        "str2 = 'second'\n",
        "str3 = 'third'\n",
        "merged_str = # complete the code\n",
        "merged_str\n",
        "# It must print 'first second third'"
      ]
    },
    {
      "cell_type": "markdown",
      "metadata": {
        "id": "LywgARb6D93p"
      },
      "source": [
        "## 👉 Please save<font color='red'> **(ctrl-s or cmd-s)** </font> your file to make a checkpoint."
      ]
    }
  ],
  "metadata": {
    "kernelspec": {
      "display_name": "base",
      "language": "python",
      "name": "python3"
    },
    "language_info": {
      "codemirror_mode": {
        "name": "ipython",
        "version": 3
      },
      "file_extension": ".py",
      "mimetype": "text/x-python",
      "name": "python",
      "nbconvert_exporter": "python",
      "pygments_lexer": "ipython3",
      "version": "3.9.17"
    },
    "orig_nbformat": 4,
    "vscode": {
      "interpreter": {
        "hash": "32cd87c0c55905266dc8232ebf1148f668af0d9324249c125246585210a29cd6"
      }
    },
    "colab": {
      "provenance": []
    }
  },
  "nbformat": 4,
  "nbformat_minor": 0
}